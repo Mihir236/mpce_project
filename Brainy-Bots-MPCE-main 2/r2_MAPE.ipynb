{
 "cells": [
  {
   "cell_type": "code",
   "execution_count": 21,
   "metadata": {},
   "outputs": [],
   "source": [
    "import pandas as pd\n",
    "import numpy as np\n",
    "from sklearn.metrics import r2_score\n",
    "\n",
    "from xgboost import XGBRegressor"
   ]
  },
  {
   "cell_type": "code",
   "execution_count": 22,
   "metadata": {},
   "outputs": [],
   "source": [
    "train_df = pd.read_parquet('final_data_train.parquet')\n",
    "test_df = pd.read_parquet('final_data_test.parquet')"
   ]
  },
  {
   "cell_type": "code",
   "execution_count": 23,
   "metadata": {},
   "outputs": [
    {
     "name": "stdout",
     "output_type": "stream",
     "text": [
      "Training data size: 209396\n",
      "Testing data size: 52350\n"
     ]
    }
   ],
   "source": [
    "print(f\"Training data size: {train_df.shape[0]}\")\n",
    "print(f\"Testing data size: {test_df.shape[0]}\")"
   ]
  },
  {
   "cell_type": "code",
   "execution_count": 24,
   "metadata": {},
   "outputs": [],
   "source": [
    "# Define Features (X) and Target (y)\n",
    "X_train = train_df.drop(columns=['Log_TotalExpense'])\n",
    "y_train = train_df['Log_TotalExpense']\n",
    "\n",
    "X_test = test_df.drop(columns=['Log_TotalExpense'])\n",
    "y_test = test_df['Log_TotalExpense']"
   ]
  },
  {
   "cell_type": "code",
   "execution_count": 25,
   "metadata": {},
   "outputs": [
    {
     "name": "stdout",
     "output_type": "stream",
     "text": [
      "R² Score: 0.3979\n"
     ]
    }
   ],
   "source": [
    "# Ensure all features are numeric\n",
    "non_numeric_cols = X_train.select_dtypes(exclude=[np.number]).columns\n",
    "for col in non_numeric_cols:\n",
    "    X_train[col] = X_train[col].astype('category').cat.codes\n",
    "    X_test[col] = X_test[col].astype('category').cat.codes\n",
    "\n",
    "# Train XGBoost Regressor\n",
    "model = XGBRegressor(n_estimators=500, max_depth=15, learning_rate=0.001, colsample_bytree=0.8, random_state=42)\n",
    "model.fit(X_train, y_train)\n",
    "\n",
    "# Make Predictions\n",
    "y_pred = model.predict(X_test)\n",
    "\n",
    "# Compute R² Score\n",
    "r2 = r2_score(y_test, y_pred)\n",
    "print(f\"R² Score: {r2:.4f}\")"
   ]
  },
  {
   "cell_type": "code",
   "execution_count": 19,
   "metadata": {},
   "outputs": [
    {
     "name": "stdout",
     "output_type": "stream",
     "text": [
      "Mean Absolute Percentage Error (MAPE): 25.7585%\n"
     ]
    }
   ],
   "source": [
    "# Calculate MAPE\n",
    "mape = np.mean(np.abs((np.expm1(y_test) - np.expm1(y_pred)) / np.expm1(y_test))) * 100\n",
    "print(f\"Mean Absolute Percentage Error (MAPE): {mape:.4f}%\")"
   ]
  },
  {
   "cell_type": "code",
   "execution_count": null,
   "metadata": {},
   "outputs": [],
   "source": []
  }
 ],
 "metadata": {
  "kernelspec": {
   "display_name": "base",
   "language": "python",
   "name": "python3"
  },
  "language_info": {
   "codemirror_mode": {
    "name": "ipython",
    "version": 3
   },
   "file_extension": ".py",
   "mimetype": "text/x-python",
   "name": "python",
   "nbconvert_exporter": "python",
   "pygments_lexer": "ipython3",
   "version": "3.12.4"
  }
 },
 "nbformat": 4,
 "nbformat_minor": 2
}
