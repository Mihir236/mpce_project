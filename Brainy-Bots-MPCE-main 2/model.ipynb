{
  "cells": [
    {
      "cell_type": "code",
      "execution_count": 3,
      "metadata": {
        "id": "2Hhipn1PHsmZ"
      },
      "outputs": [],
      "source": [
        "import pandas as pd\n",
        "import numpy as np\n",
        "from sklearn.preprocessing import StandardScaler, TargetEncoder\n",
        "from sklearn.model_selection import train_test_split\n",
        "from sklearn.decomposition import PCA\n",
        "from sklearn.cluster import KMeans\n",
        "from xgboost import XGBRegressor\n",
        "from sklearn.metrics import r2_score\n",
        "import matplotlib.pyplot as plt\n",
        "import seaborn as sns"
      ]
    },
    {
      "cell_type": "code",
      "execution_count": 4,
      "metadata": {
        "colab": {
          "base_uri": "https://localhost:8080/"
        },
        "id": "7VjycbxbEV2X",
        "outputId": "4be09904-c7f8-4976-fc42-213e26d54f40"
      },
      "outputs": [
        {
          "name": "stdout",
          "output_type": "stream",
          "text": [
            "R² Score: 0.7264\n"
          ]
        }
      ],
      "source": [
        "# Load Data\n",
        "household_data = pd.read_parquet('Cleaned_Household_Data_filled.parquet')\n",
        "person_data = pd.read_parquet('Updated_Clean_Person_Data_train.parquet')\n",
        "\n",
        "# Feature Engineering - Household Level\n",
        "household_data['Total_Assets'] = household_data.filter(like='Is_HH_Have').sum(axis=1)\n",
        "household_data['Total_Online_Purchases'] = household_data.filter(like='Is_online').sum(axis=1)\n",
        "\n",
        "# New Features\n",
        "household_data['Assets_per_person'] = household_data['Total_Assets'] / household_data['HH Size (For FDQ)']\n",
        "household_data['Online_Purchases_per_person'] = household_data['Total_Online_Purchases'] / household_data['HH Size (For FDQ)']\n",
        "household_data['Asset_HHSize_Interaction'] = household_data['Total_Assets'] * household_data['HH Size (For FDQ)']\n",
        "household_data['HH_Size_Squared'] = household_data['HH Size (For FDQ)'] ** 2\n",
        "\n",
        "# Feature Engineering - Person Level Aggregation\n",
        "person_agg = person_data.groupby('HH_ID').agg({\n",
        "    'Age(in years)': ['mean', 'std'],\n",
        "    'Gender': lambda x: (x == 1).sum(),  # Male count\n",
        "    'Total year of education completed': 'mean',\n",
        "    'Whether used internet from any location during last 30 days': 'sum'\n",
        "}).reset_index()\n",
        "\n",
        "# Rename columns\n",
        "person_agg.columns = ['HH_ID', 'Avg_Age', 'Age_StdDev', 'Male_Count', 'Avg_Education', 'Internet_Users']\n",
        "\n",
        "# Merge Household & Person Data\n",
        "final_data = pd.merge(household_data, person_agg, on='HH_ID', how='left')\n",
        "\n",
        "# Fix NaN Values in Numeric Columns\n",
        "num_cols = ['HH Size (For FDQ)', 'Total_Assets', 'Total_Online_Purchases',\n",
        "            'Assets_per_person', 'Online_Purchases_per_person', 'Asset_HHSize_Interaction',\n",
        "            'HH_Size_Squared', 'Avg_Age', 'Age_StdDev', 'Avg_Education', 'Internet_Users'] # 11\n",
        "final_data[num_cols] = final_data[num_cols].fillna(final_data[num_cols].mean())\n",
        "\n",
        "# Apply Target Encoding on Categorical Columns\n",
        "cat_cols = ['Sector', 'State', 'Household Type', 'Religion of the head of the household']\n",
        "target_encoder = TargetEncoder()\n",
        "final_data[cat_cols] = target_encoder.fit_transform(final_data[cat_cols], final_data['TotalExpense'])\n",
        "\n",
        "# Apply Log Transformation to TotalExpense\n",
        "final_data['Log_TotalExpense'] = np.log1p(final_data['TotalExpense'])  # log(1 + x) to handle zero values\n",
        "\n",
        "# Scale Numerical Features\n",
        "scaler = StandardScaler()\n",
        "final_data[num_cols] = scaler.fit_transform(final_data[num_cols])\n",
        "\n",
        "# PCA for Dimensionality Reduction (Captures Important Variance)\n",
        "pca = PCA(n_components=5)\n",
        "pca_features = pca.fit_transform(final_data[num_cols])\n",
        "pca_df = pd.DataFrame(pca_features, columns=[f'PCA_{i+1}' for i in range(5)])\n",
        "\n",
        "# K-Means Clustering (Creates Household Groups)\n",
        "kmeans = KMeans(n_clusters=5, random_state=42, n_init=10)\n",
        "final_data['Household_Cluster'] = kmeans.fit_predict(final_data[num_cols])\n",
        "\n",
        "# Combine PCA + Cluster Features\n",
        "final_data = pd.concat([final_data, pca_df], axis=1)\n",
        "\n",
        "# Drop Unnecessary Columns\n",
        "final_data.drop(columns=['HH_ID', 'NCO_3D', 'NIC_5D', 'TotalExpense'], inplace=True)  # Drop original target\n",
        "\n",
        "# Train/Test Split\n",
        "X = final_data.drop(columns=['Log_TotalExpense'])\n",
        "y = final_data['Log_TotalExpense']\n",
        "X_train, X_test, y_train, y_test = train_test_split(X, y, test_size=0.2, random_state=42)\n",
        "\n",
        "# Ensure All Features are Numeric for XGBoost\n",
        "non_numeric_cols = X_train.select_dtypes(exclude=[np.number]).columns\n",
        "for col in non_numeric_cols:\n",
        "    X_train[col] = X_train[col].astype('category').cat.codes\n",
        "    X_test[col] = X_test[col].astype('category').cat.codes\n",
        "\n",
        "# Train XGBoost Regressor with Hyperparameter Tuning\n",
        "model = XGBRegressor(n_estimators=500, max_depth=10, learning_rate=0.05, colsample_bytree=0.8, random_state=42)\n",
        "model.fit(X_train, y_train)\n",
        "\n",
        "# Make Predictions\n",
        "y_pred = model.predict(X_test)\n",
        "\n",
        "# Evaluate Model Performance\n",
        "r2 = r2_score(y_test, y_pred)\n",
        "print(f\"R² Score: {r2:.4f}\")"
      ]
    }
  ],
  "metadata": {
    "colab": {
      "gpuType": "T4",
      "provenance": []
    },
    "kernelspec": {
      "display_name": "base",
      "language": "python",
      "name": "python3"
    },
    "language_info": {
      "codemirror_mode": {
        "name": "ipython",
        "version": 3
      },
      "file_extension": ".py",
      "mimetype": "text/x-python",
      "name": "python",
      "nbconvert_exporter": "python",
      "pygments_lexer": "ipython3",
      "version": "3.12.4"
    }
  },
  "nbformat": 4,
  "nbformat_minor": 0
}
